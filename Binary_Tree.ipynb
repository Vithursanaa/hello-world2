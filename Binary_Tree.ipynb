{
 "cells": [
  {
   "cell_type": "code",
   "execution_count": 3,
   "id": "5d0666b0",
   "metadata": {},
   "outputs": [],
   "source": [
    "def isoperator(c):\n",
    "    if ( c == '+' or \n",
    "         c == '-' or \n",
    "         c == '*' or\n",
    "         c == '/' or\n",
    "         c == '^' ):\n",
    "        return True\n",
    "    else:\n",
    "        return False"
   ]
  },
  {
   "cell_type": "code",
   "execution_count": 14,
   "id": "3f9a5adb",
   "metadata": {},
   "outputs": [],
   "source": [
    "def construct_tree(expression):\n",
    "    stack=[]\n",
    "    for char in expression:\n",
    "        t = Node(char)\n",
    "        if isoperator(char):\n",
    "            t1 = stack.pop()\n",
    "            t2 = stack.pop()\n",
    "            t.right = t1\n",
    "            t.left = t2\n",
    "        stack.append(t)\n",
    "    t = stack.pop()\n",
    "    return t"
   ]
  },
  {
   "cell_type": "code",
   "execution_count": 21,
   "id": "2fe60e30",
   "metadata": {},
   "outputs": [
    {
     "name": "stdout",
     "output_type": "stream",
     "text": [
      "a+b-e*f*g"
     ]
    }
   ],
   "source": [
    "expression = \"ab+ef*g*-\"\n",
    "x=construct_tree(expression)\n",
    "print_inoder(x)"
   ]
  },
  {
   "cell_type": "code",
   "execution_count": 21,
   "id": "4cb843c7",
   "metadata": {},
   "outputs": [],
   "source": [
    "class Node:\n",
    "    def __init__(self,data):\n",
    "        self.left = None\n",
    "        self.right = None\n",
    "        self.val = data"
   ]
  },
  {
   "cell_type": "code",
   "execution_count": 22,
   "id": "5cb505ea",
   "metadata": {},
   "outputs": [],
   "source": [
    "root = Node(1)\n",
    "root.left = Node(2)\n",
    "root.right = Node(3)\n",
    "root.left.left = Node(4)"
   ]
  },
  {
   "cell_type": "code",
   "execution_count": 25,
   "id": "bf129d68",
   "metadata": {},
   "outputs": [],
   "source": [
    "def print_inoder(root):\n",
    "    if root:\n",
    "        print_inoder(root.left)\n",
    "        print(root.val, end=\"\"),\n",
    "        print_inoder(root.right)"
   ]
  },
  {
   "cell_type": "code",
   "execution_count": 27,
   "id": "580c7e5c",
   "metadata": {},
   "outputs": [
    {
     "name": "stdout",
     "output_type": "stream",
     "text": [
      "4213"
     ]
    }
   ],
   "source": [
    "print_inoder(root)"
   ]
  },
  {
   "cell_type": "code",
   "execution_count": 19,
   "id": "7251f6a6",
   "metadata": {},
   "outputs": [],
   "source": [
    "    \n",
    "    def insert(self, data, bracketed):\n",
    "        '''\n",
    "        Insert operators and operands into the binary tree.\n",
    "\n",
    "        :param data: Operator or operand as a tuple. E.g.: ('OPERAND', 34), ('OPERATOR', ‘+’)\n",
    "        :param bracketed: denote whether an operator is inside brackets or not. If the operator is inside brackets,\n",
    "        we set bracketed as True.\n",
    "        :return: self\n",
    "        '''\n",
    "        \n",
    "        #Include your code here\n",
    "        if self.data is None:\n",
    "            self.data == data\n",
    "        else:\n",
    "            if data[0] == 'OPERATOR':\n",
    "                if self.left is None:\n",
    "                    self.left == Node(data)\n",
    "                else: \n",
    "                    self.left.insert(data)\n",
    "            if data[0] == 'OPERAND':\n",
    "                if self.right is None:\n",
    "                    self.right == Node(data)\n",
    "                else: \n",
    "                    self.right.insert(data)\n",
    "            \n",
    "        return self"
   ]
  },
  {
   "cell_type": "code",
   "execution_count": null,
   "id": "931f3ce4",
   "metadata": {},
   "outputs": [],
   "source": [
    "def insert(self, data, bracketed):\n",
    "    \n"
   ]
  },
  {
   "cell_type": "code",
   "execution_count": null,
   "id": "3eb96a47",
   "metadata": {},
   "outputs": [],
   "source": [
    " def insert(self, data, bracketed):\n",
    "        '''\n",
    "        Insert operators and operands into the binary tree.\n",
    "\n",
    "        :param data: Operator or operand as a tuple. E.g.: ('OPERAND', 34), ('OPERATOR', ‘+’)\n",
    "        :param bracketed: denote whether an operator is inside brackets or not. If the operator is inside brackets,\n",
    "        we set bracketed as True.\n",
    "        :return: self\n",
    "        '''\n",
    "        \n",
    "        #Include your code here\n",
    "        if self.data is None:\n",
    "            self.data == data\n",
    "        else:\n",
    "            if data[0] == 'OPERATOR':\n",
    "                if self.left is None:\n",
    "                    self.left == Node(data)\n",
    "                else: \n",
    "                    self.left.insert(data)\n",
    "            if data[0] == 'OPERAND':\n",
    "                if self.right is None:\n",
    "                    self.right == Node(data)\n",
    "                else: \n",
    "                    self.right.insert(data)\n",
    "            \n",
    "        return self\n",
    "\n",
    "    def evaluate(self):\n",
    "        '''\n",
    "        Process the expression stored in the binary tree and compute the final result.\n",
    "        To do that, the function should be able to traverse the binary tree.\n",
    "\n",
    "        Note that the evaluate function does not check for overflow or underflow.\n",
    "\n",
    "        :return: the evaluated value\n",
    "        '''\n",
    "        \n",
    "        #Include your code here\n",
    "        if self is None:\n",
    "            return 0\n",
    "            \n",
    "        else :\n",
    "            if self.left == ('OPERATOR', '+'):\n",
    "                int(self) + int(self.left.right)\n",
    "            elif self.left == ('OPERATOR', '-'):\n",
    "                int(self) - int(self.left.right)\n",
    "            elif self.left == ('OPERATOR', '*'):\n",
    "                int(self) * int(self.left.right)\n",
    "            elif self.left == ('OPERATOR', '^'):\n",
    "                int(self) ^ int(self.left.right)\n",
    "        pass"
   ]
  },
  {
   "cell_type": "code",
   "execution_count": null,
   "id": "5e8a2586",
   "metadata": {},
   "outputs": [],
   "source": [
    "class Node:\n",
    "\n",
    "    def __init__(self, data):\n",
    "        self.left = None\n",
    "        self.right = None\n",
    "        self.data = data\n",
    "\n",
    "    def get_output(self):\n",
    "        '''\n",
    "        Print the output depending on the evaluated value.\n",
    "        If the 0 <= value <= 999 the value is printed.\n",
    "        If the value < 0, UNDERFLOW is printed.\n",
    "        If the value > 999, OVERFLOW is printed.\n",
    "\n",
    "        :return: None\n",
    "        '''\n",
    "        value = self.evaluate()\n",
    "        if value > 999:\n",
    "            print('OVERFLOW')\n",
    "        elif value < 0:\n",
    "            print('UNDERFLOW')\n",
    "        else:\n",
    "            print(value)\n",
    "\n",
    "    #####################################################################\n",
    "    ######### Your task is to implement the following methods. ##########\n",
    "    #####################################################################\n",
    "    \n",
    "    def insert(self, data, bracketed):\n",
    "        '''\n",
    "        Insert operators and operands into the binary tree.\n",
    "\n",
    "        :param data: Operator or operand as a tuple. E.g.: ('OPERAND', 34), ('OPERATOR', ‘+’)\n",
    "        :param bracketed: denote whether an operator is inside brackets or not. If the operator is inside brackets,\n",
    "        we set bracketed as True.\n",
    "        :return: self\n",
    "        '''\n",
    "        \n",
    "        #Include your code here\n",
    "        new_node = Node(None)\n",
    "        if data[0] == 'OPERAND':\n",
    "            if self.right is None:\n",
    "                self.right = Node(data)\n",
    "            else:\n",
    "                self.right.right = Node(data)\n",
    "            return self\n",
    "        else:\n",
    "            if bracketed:\n",
    "                temp_node = Node(data)\n",
    "                temp_node.left = self.right\n",
    "                self.right = temp_node\n",
    "                return self\n",
    "            else:\n",
    "                new_node.left = self\n",
    "                new_node.data = data\n",
    "        return new_node\n",
    "            \n",
    "        return self\n",
    "\n",
    "    def evaluate(self):\n",
    "        '''\n",
    "        Process the expression stored in the binary tree and compute the final result.\n",
    "        To do that, the function should be able to traverse the binary tree.\n",
    "\n",
    "        Note that the evaluate function does not check for overflow or underflow.\n",
    "\n",
    "        :return: the evaluated value\n",
    "        '''\n",
    "        \n",
    "        #Include your code here\n",
    "        if self.data[0] == 'OPERAND':\n",
    "            return self.data[1]\n",
    "\n",
    "        left = self.left.evaluate()\n",
    "        right = self.right.evaluate()\n",
    "\n",
    "        #print(f'{left} {self.data[1]} {right}')\n",
    "        match self.data[1]:\n",
    "            case '+':\n",
    "                return left + right\n",
    "            case '-':\n",
    "                return left - right\n",
    "            case '*':\n",
    "                return left * right\n",
    "            case '^':\n",
    "                return pow(left, right)\n",
    "            case _:\n",
    "                return left / right\n",
    "        pass\n"
   ]
  }
 ],
 "metadata": {
  "kernelspec": {
   "display_name": "Python 3 (ipykernel)",
   "language": "python",
   "name": "python3"
  },
  "language_info": {
   "codemirror_mode": {
    "name": "ipython",
    "version": 3
   },
   "file_extension": ".py",
   "mimetype": "text/x-python",
   "name": "python",
   "nbconvert_exporter": "python",
   "pygments_lexer": "ipython3",
   "version": "3.11.3"
  }
 },
 "nbformat": 4,
 "nbformat_minor": 5
}
